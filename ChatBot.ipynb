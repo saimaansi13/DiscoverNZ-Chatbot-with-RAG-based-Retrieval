{
  "nbformat": 4,
  "nbformat_minor": 0,
  "metadata": {
    "colab": {
      "provenance": [],
      "machine_shape": "hm"
    },
    "kernelspec": {
      "name": "python3",
      "display_name": "Python 3"
    },
    "language_info": {
      "name": "python"
    }
  },
  "cells": [
    {
      "cell_type": "code",
      "source": [
        "!pip install langchain"
      ],
      "metadata": {
        "id": "iIpN-Deicfm2"
      },
      "execution_count": null,
      "outputs": []
    },
    {
      "cell_type": "code",
      "source": [
        "!pip install gradio"
      ],
      "metadata": {
        "id": "I0dIT0p8cns2"
      },
      "execution_count": null,
      "outputs": []
    },
    {
      "cell_type": "code",
      "source": [
        "!pip install pypdf"
      ],
      "metadata": {
        "id": "NYjM_4oCcwRa"
      },
      "execution_count": null,
      "outputs": []
    },
    {
      "cell_type": "code",
      "source": [
        "!pip install openai"
      ],
      "metadata": {
        "id": "OI37UqE6exX1"
      },
      "execution_count": null,
      "outputs": []
    },
    {
      "cell_type": "code",
      "source": [
        "!pip install tiktoken"
      ],
      "metadata": {
        "id": "x0cdgJ35e41S"
      },
      "execution_count": null,
      "outputs": []
    },
    {
      "cell_type": "code",
      "source": [
        "!pip install faiss-gpu"
      ],
      "metadata": {
        "id": "jbjHj5sxfQRu"
      },
      "execution_count": null,
      "outputs": []
    },
    {
      "cell_type": "code",
      "source": [
        "import os\n",
        "from langchain.document_loaders import PyPDFLoader\n",
        "from langchain.text_splitter import RecursiveCharacterTextSplitter\n",
        "from langchain.embeddings import OpenAIEmbeddings\n",
        "from langchain.vectorstores import FAISS\n",
        "from langchain.chat_models import ChatOpenAI\n",
        "from langchain.chains import create_qa_with_sources_chain, ConversationalRetrievalChain\n",
        "import gradio as gr\n",
        "\n",
        "loader = PyPDFLoader(\"/content/Nz_Info_Final.pdf\")\n",
        "raw_documents = loader.load()\n",
        "\n",
        "# Split documents into chunks\n",
        "text_splitter = RecursiveCharacterTextSplitter(\n",
        "    chunk_size=100, chunk_overlap=20, length_function=len\n",
        ")\n",
        "documents = text_splitter.split_documents(raw_documents)\n",
        "\n",
        "# Create FAISS vector store\n",
        "openai_api_key = \" \" #replace with your own api key\n",
        "embeddings_model = OpenAIEmbeddings(openai_api_key=openai_api_key)\n",
        "db = FAISS.from_documents(documents, embeddings_model)\n",
        "retriever = db.as_retriever()\n",
        "\n",
        "# Initialize language model with the correct API key\n",
        "llm_src = ChatOpenAI(temperature=0, model=\"gpt-3.5-turbo-16k\", openai_api_key=openai_api_key)\n",
        "\n",
        "# Create conversational retrieval chain\n",
        "retrieval_qa = ConversationalRetrievalChain.from_llm(\n",
        "    llm_src,\n",
        "    retriever,\n",
        "    return_source_documents=True,\n",
        ")\n",
        "\n",
        "def answer_question(question):\n",
        "    output = retrieval_qa({\n",
        "        \"question\": question,\n",
        "        \"chat_history\": []\n",
        "    })\n",
        "    return output['answer']\n",
        "\n",
        "iface = gr.Interface(fn=answer_question, inputs=\"text\", outputs=\"text\", title=\"DiscoverNZ\",\n",
        "                     theme=\"light\", description = 'Kia Ora! Ready to explore New Zealand?')\n",
        "\n",
        "iface.launch(inline=True)"
      ],
      "metadata": {
        "colab": {
          "base_uri": "https://localhost:8080/",
          "height": 854
        },
        "id": "xlFL6NYMkJnw",
        "outputId": "f230a1a7-41c6-4a12-f007-58355a521e57"
      },
      "execution_count": null,
      "outputs": [
        {
          "output_type": "stream",
          "name": "stderr",
          "text": [
            "/usr/local/lib/python3.10/dist-packages/langchain_core/_api/deprecation.py:117: LangChainDeprecationWarning: The class `langchain_community.chat_models.openai.ChatOpenAI` was deprecated in langchain-community 0.0.10 and will be removed in 0.2.0. An updated version of the class exists in the langchain-openai package and should be used instead. To use it run `pip install -U langchain-openai` and import as `from langchain_openai import ChatOpenAI`.\n",
            "  warn_deprecated(\n",
            "/usr/local/lib/python3.10/dist-packages/huggingface_hub/utils/_token.py:88: UserWarning: \n",
            "The secret `HF_TOKEN` does not exist in your Colab secrets.\n",
            "To authenticate with the Hugging Face Hub, create a token in your settings tab (https://huggingface.co/settings/tokens), set it as secret in your Google Colab and restart your session.\n",
            "You will be able to reuse this secret in all of your notebooks.\n",
            "Please note that authentication is recommended but still optional to access public models or datasets.\n",
            "  warnings.warn(\n",
            "/usr/local/lib/python3.10/dist-packages/gradio/blocks.py:626: UserWarning: Cannot load light. Caught Exception: 404 Client Error: Not Found for url: https://huggingface.co/api/spaces/light (Request ID: Root=1-66182daa-2907e595133c23aa58316390;a5ffe1bb-74ac-4a38-96e6-b460811af68f)\n",
            "\n",
            "Sorry, we can't find the page you are looking for.\n",
            "  warnings.warn(f\"Cannot load {theme}. Caught Exception: {str(e)}\")\n"
          ]
        },
        {
          "output_type": "stream",
          "name": "stdout",
          "text": [
            "Setting queue=True in a Colab notebook requires sharing enabled. Setting `share=True` (you can turn this off by setting `share=False` in `launch()` explicitly).\n",
            "\n",
            "Colab notebook detected. To show errors in colab notebook, set debug=True in launch()\n",
            "Running on public URL: https://1cc61215b5e92ffa77.gradio.live\n",
            "\n",
            "This share link expires in 72 hours. For free permanent hosting and GPU upgrades, run `gradio deploy` from Terminal to deploy to Spaces (https://huggingface.co/spaces)\n"
          ]
        },
        {
          "output_type": "display_data",
          "data": {
            "text/plain": [
              "<IPython.core.display.HTML object>"
            ],
            "text/html": [
              "<div><iframe src=\"https://1cc61215b5e92ffa77.gradio.live\" width=\"100%\" height=\"500\" allow=\"autoplay; camera; microphone; clipboard-read; clipboard-write;\" frameborder=\"0\" allowfullscreen></iframe></div>"
            ]
          },
          "metadata": {}
        },
        {
          "output_type": "execute_result",
          "data": {
            "text/plain": []
          },
          "metadata": {},
          "execution_count": 9
        }
      ]
    },
    {
      "cell_type": "code",
      "source": [],
      "metadata": {
        "id": "rrWONY7NYD9M"
      },
      "execution_count": null,
      "outputs": []
    }
  ]
}